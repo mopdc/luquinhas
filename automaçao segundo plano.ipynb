{
 "cells": [
  {
   "cell_type": "code",
   "execution_count": 61,
   "metadata": {
    "scrolled": true
   },
   "outputs": [
    {
     "name": "stdout",
     "output_type": "stream",
     "text": [
      "Qual frase deseja traduzir? flores\n",
      "\n",
      "Sua tradução: flowers\n"
     ]
    }
   ],
   "source": [
    "#pegar a frase que quer traduzir\n",
    "\n",
    "frasept = input('Qual frase deseja traduzir? ')\n",
    "\n",
    "\n",
    "#abrir o navegador\n",
    "\n",
    "from selenium import webdriver\n",
    "\n",
    "from selenium.webdriver.common.keys import Keys\n",
    "\n",
    "import time\n",
    "\n",
    "import pyautogui\n",
    "\n",
    "#navegador = webdriver.Chrome() ##Navegador para o Windows\n",
    "\n",
    "navegador = webdriver.Chrome('./chromedriver') ##Navegador para o macOS\n",
    "\n",
    "navegador.get('https://www.google.com.br/')\n",
    "\n",
    "navegador.find_element_by_xpath('/html/body/div[1]/div[3]/form/div[1]/div[1]/div[1]/div/div[2]/input').send_keys('google tradutor portugues para ingles')\n",
    "\n",
    "navegador.find_element_by_xpath('/html/body/div[1]/div[3]/form/div[1]/div[1]/div[1]/div/div[2]/input').send_keys(Keys.ENTER)\n",
    "\n",
    "#traduzir a frase\n",
    "\n",
    "navegador.find_element_by_xpath('//*[@id=\"tw-source-text-ta\"]').send_keys(frasept)\n",
    "\n",
    "#Tempo necessário para o navegador carregar a tradução:\n",
    "#Se o seu computador ou a sua internet demorar mais, aumente o tempo\n",
    "time.sleep(3)\n",
    "\n",
    "#Pegando o campo TEXTO da DIV:\n",
    "resultado = navegador.find_element_by_xpath('//*[@id=\"tw-target-text\"]/span').text\n",
    "\n",
    "#Mostrar a frase:\n",
    "print('\\nSua tradução:', resultado)"
   ]
  },
  {
   "cell_type": "code",
   "execution_count": null,
   "metadata": {},
   "outputs": [],
   "source": []
  }
 ],
 "metadata": {
  "kernelspec": {
   "display_name": "Python 3",
   "language": "python",
   "name": "python3"
  },
  "language_info": {
   "codemirror_mode": {
    "name": "ipython",
    "version": 3
   },
   "file_extension": ".py",
   "mimetype": "text/x-python",
   "name": "python",
   "nbconvert_exporter": "python",
   "pygments_lexer": "ipython3",
   "version": "3.8.5"
  }
 },
 "nbformat": 4,
 "nbformat_minor": 5
}
